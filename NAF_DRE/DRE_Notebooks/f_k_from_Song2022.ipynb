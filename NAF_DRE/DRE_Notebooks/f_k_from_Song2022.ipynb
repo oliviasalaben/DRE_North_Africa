{
 "cells": [
  {
   "cell_type": "markdown",
   "metadata": {
    "id": "bS3WNWagzHka"
   },
   "source": [
    "In this script, we calculate f_k  (% contribution of each size bin k to the toal DAOD) for a given dust PSD referring to Eq. (7) in Song et al. 2022\n",
    "\n",
    "\n",
    "Based on Eq.(7), we need to know three variables to calculate f_k.\n",
    "\n",
    "(1), Qe at 532nm as a function of geometric diameter: Qe(D) \n",
    "\n",
    "(2), Projected area as a function of geometric diameter: A(D) \n",
    "\n",
    "(3), Dust Particle Size Distribution: dN/dD\n",
    "\n",
    "The first two variables are provided by Song et al. 2022 in 'Qe532nm_ProjectedArea.txt'.\n",
    "\n",
    "Therefore, users can calculate f_k for any user-defined dust PSD."
   ]
  },
  {
   "cell_type": "code",
   "execution_count": 1,
   "metadata": {
    "executionInfo": {
     "elapsed": 310,
     "status": "ok",
     "timestamp": 1648583696597,
     "user": {
      "displayName": "Qianqian Song",
      "userId": "03577238226357555443"
     },
     "user_tz": 240
    },
    "id": "XFabvPzUJNy6"
   },
   "outputs": [],
   "source": [
    "import numpy as np\n",
    "import matplotlib.pyplot as plt\n",
    "import sys\n",
    "import math\n",
    "from netCDF4 import Dataset\n",
    "import scipy\n",
    "from scipy import stats"
   ]
  },
  {
   "cell_type": "code",
   "execution_count": 2,
   "metadata": {
    "colab": {
     "base_uri": "https://localhost:8080/"
    },
    "executionInfo": {
     "elapsed": 687,
     "status": "ok",
     "timestamp": 1648583698249,
     "user": {
      "displayName": "Qianqian Song",
      "userId": "03577238226357555443"
     },
     "user_tz": 240
    },
    "id": "rIRUdpWANIMp",
    "outputId": "d9234c7f-4a5b-45b7-f4d8-8bd2e6bf23fd"
   },
   "outputs": [
    {
     "ename": "ModuleNotFoundError",
     "evalue": "No module named 'google'",
     "output_type": "error",
     "traceback": [
      "\u001b[0;31m---------------------------------------------------------------------------\u001b[0m",
      "\u001b[0;31mModuleNotFoundError\u001b[0m                       Traceback (most recent call last)",
      "\u001b[0;32m/var/folders/47/97wl1v310zqcw6zy080_r_8r0000gs/T/ipykernel_7964/3222188695.py\u001b[0m in \u001b[0;36m<module>\u001b[0;34m\u001b[0m\n\u001b[1;32m      4\u001b[0m \u001b[0;31m# 'Qe532nm_ProjectedArea.txt' is provided in this study. Please check 'Data Availability' in Song et al. 2022.\u001b[0m\u001b[0;34m\u001b[0m\u001b[0;34m\u001b[0m\u001b[0m\n\u001b[1;32m      5\u001b[0m \u001b[0;31m#----------\u001b[0m\u001b[0;34m\u001b[0m\u001b[0;34m\u001b[0m\u001b[0m\n\u001b[0;32m----> 6\u001b[0;31m \u001b[0;32mfrom\u001b[0m \u001b[0mgoogle\u001b[0m\u001b[0;34m.\u001b[0m\u001b[0mcolab\u001b[0m \u001b[0;32mimport\u001b[0m \u001b[0mdrive\u001b[0m\u001b[0;34m\u001b[0m\u001b[0m\n\u001b[0m\u001b[1;32m      7\u001b[0m \u001b[0mdrive\u001b[0m\u001b[0;34m.\u001b[0m\u001b[0mmount\u001b[0m\u001b[0;34m(\u001b[0m\u001b[0;34m'/content/drive'\u001b[0m\u001b[0;34m)\u001b[0m\u001b[0;34m\u001b[0m\u001b[0m\n",
      "\u001b[0;31mModuleNotFoundError\u001b[0m: No module named 'google'"
     ]
    }
   ],
   "source": [
    "#----------\n",
    "# This cell is to mount google colab to user's google drive. Then this code can access data in user's google drive.\n",
    "# User should download 'Qe532nm_ProjectedArea.txt' in advance and put it in user's google drive for this code to read.\n",
    "# 'Qe532nm_ProjectedArea.txt' is provided in this study. Please check 'Data Availability' in Song et al. 2022.\n",
    "#----------\n",
    "from google.colab import drive\n",
    "drive.mount('/content/drive')"
   ]
  },
  {
   "cell_type": "code",
   "execution_count": 4,
   "metadata": {
    "executionInfo": {
     "elapsed": 149,
     "status": "ok",
     "timestamp": 1648584595922,
     "user": {
      "displayName": "Qianqian Song",
      "userId": "03577238226357555443"
     },
     "user_tz": 240
    },
    "id": "nih01SJCzcL3"
   },
   "outputs": [],
   "source": [
    "#----------\n",
    "# Read Qe and Projected Area (A) data from the data we provided.\n",
    "# We provide Qe and A for two dust shapes (i.e., sphere and spheroid) and three dust RI (i.e., MaxRI, MeanRI, MinRI) in 'Qe532nm_ProjectedArea.txt'. \n",
    "# (Details see Section 2.2 in Song et al. 2022)\n",
    "#----------\n",
    "\n",
    "# Note, this cell is to read 'Qe532nm_ProjectedArea.txt' file. \n",
    "# User can change the data_dir path to acess 'Qe532nm_ProjectedArea.txt' in user's google drive.\n",
    "data_dir = '../Data/' \n",
    "data = np.loadtxt(data_dir+'Qe532nm_ProjectedArea.txt', skiprows=1)\n",
    "\n",
    "r_eqv = data[:,0] #'r_eqv' represents radius for sphere, and represents volume equivalent radius for spheroid (i.e., geometric radius)\n",
    "\n",
    "# Read Projected Area and Qext for Spherical dust.\n",
    "A_sphere = data[:,1] # 'A_sphere' is the projected area of spherical particles with radius=r_eqv\n",
    "Qe_sphere_maxri = data[:,3] # 'Qe_sphere_maxri' is the extinction efficiency (Qext at 532nm) for MaxRI-Sphere dust model\n",
    "Qe_sphere_meanri = data[:,4] # 'Qe_sphere_meanri' is the extinction efficiency (Qext at 532nm) for MeanRI-Sphere dust model\n",
    "Qe_sphere_minri = data[:,5] # 'Qe_sphere_minri' is the extinction efficiency (Qext at 532nm) for MinRI-Sphere dust model\n",
    "\n",
    "# Read Projected Area and Qext for Spheroidal dust with Shape distribution described in Dubovik et al. 2006.\n",
    "A_spheroid = data[:,2] # 'A_spheroid' is the shape-averaged projected area of spheroidal particles with r_eqv\n",
    "Qe_spheroid_maxri = data[:,6] # 'Qe_spheroid_maxri' is the shape-averaged extinction efficiency (Qext at 532nm) for MaxRI-Spheroid dust model\n",
    "Qe_spheroid_meanri = data[:,7] # 'Qe_spheroid_meanri' is the shape-averaged extinction efficiency (Qext at 532nm) for MeanRI-Spheroid dust model\n",
    "Qe_spheroid_minri = data[:,7] # 'Qe_spheroid_minri' is the shape-averaged extinction efficiency (Qext at 532nm) for MinRI-Spheroid dust model\n"
   ]
  },
  {
   "cell_type": "code",
   "execution_count": 5,
   "metadata": {
    "executionInfo": {
     "elapsed": 203,
     "status": "ok",
     "timestamp": 1648583700506,
     "user": {
      "displayName": "Qianqian Song",
      "userId": "03577238226357555443"
     },
     "user_tz": 240
    },
    "id": "z5e4F6oeoY2G"
   },
   "outputs": [],
   "source": [
    "#----------\n",
    "# Dust Particle Size Distribution (PSD)\n",
    "# As an example, we use the global averaged dust PSD in the atmosphere from Kok et al. 2017 \n",
    "# This cell is to obtain dust PSD in the form of dN/dD based on the method introduced in Kok et al. 2017.\n",
    "#----------\n",
    "\n",
    "D=r_eqv*2 # 'D' is volume equivalent diameter or geometric diameter\n",
    "\n",
    "#dV/dlnD at emission\n",
    "omega_s=2.1\n",
    "D_M=1.52\n",
    "lamda=20.5\n",
    "\n",
    "a=np.log(D/D_M) / (np.sqrt(2)*np.log(omega_s))\n",
    "b=scipy.special.erf(a)\n",
    "dvdlnd_emit = (D)*(1+b)*np.exp(-(D/lamda)**3)\n",
    "\n",
    "Cv =np.trapz(dvdlnd_emit/D,D)\n",
    "dvdlnd_emit_norm = dvdlnd_emit/Cv\n",
    "\n",
    "#dust lifetime\n",
    "D_dep = 4.6 # unit: days\n",
    "T_0 = 12.5 # unit: days\n",
    "\n",
    "T_D = T_0*np.exp(-D/D_dep)\n",
    "\n",
    "#global mean dV/dlnD in the atmosphere\n",
    "dvdlnd_atm = dvdlnd_emit_norm*T_D\n",
    "#normalize dV/dlnD\n",
    "Cv =np.trapz(dvdlnd_atm/D,D)\n",
    "dvdlnd_atm_norm = dvdlnd_atm/Cv\n",
    "\n",
    "#Convert dV/dlnD to dN/dD\n",
    "dNdD = 6/(np.pi*D**4)*dvdlnd_atm_norm"
   ]
  },
  {
   "cell_type": "code",
   "execution_count": 6,
   "metadata": {
    "colab": {
     "base_uri": "https://localhost:8080/"
    },
    "executionInfo": {
     "elapsed": 155,
     "status": "ok",
     "timestamp": 1648583701544,
     "user": {
      "displayName": "Qianqian Song",
      "userId": "03577238226357555443"
     },
     "user_tz": 240
    },
    "id": "OaknREYFqLtC",
    "outputId": "3fcdbc51-9be2-4ece-cf0a-7fb1e10eebd2"
   },
   "outputs": [
    {
     "name": "stdout",
     "output_type": "stream",
     "text": [
      "[  0.1          0.19952623   0.39810717   0.79432823   1.58489319\n",
      "   3.16227766   6.30957344  12.58925412  25.11886432  50.11872336\n",
      " 100.        ]\n"
     ]
    }
   ],
   "source": [
    "#----------\n",
    "# Define dust size bin. \n",
    "# There are 10 size bins ranging from D=0.1 micro to D=100 micro\n",
    "#----------\n",
    "\n",
    "Nbin=10\n",
    "d_bin_edge = np.logspace(-1,2,Nbin+1) #diameter bin edge\n",
    "d_bin_center = (d_bin_edge[:-1]+d_bin_edge[1:])/2\n",
    "d_bin_length = d_bin_edge[1:]-d_bin_edge[:-1]\n",
    "print(d_bin_edge)"
   ]
  },
  {
   "cell_type": "code",
   "execution_count": 7,
   "metadata": {
    "executionInfo": {
     "elapsed": 198,
     "status": "ok",
     "timestamp": 1648583702681,
     "user": {
      "displayName": "Qianqian Song",
      "userId": "03577238226357555443"
     },
     "user_tz": 240
    },
    "id": "sYAsmDtUqi7R"
   },
   "outputs": [],
   "source": [
    "#----------\n",
    "# For the given dust PSD above (dN/dD), we calculate f_k for the 6 dust models (i.e., two dust shapes and three dust RI) respectively\n",
    "# '_sphere_maxri' indicates Sphere-MaxRI dust\n",
    "# '_sphere_meanri' indicates Sphere-MeanRI dust\n",
    "# '_sphere_minri' indicates Sphere-MinRI dust\n",
    "# '_spheroid_maxri' indicates Spheroid-MaxRI dust\n",
    "# '_spheroid_meanri' indicates Spheroid-MeanRI dust\n",
    "# '_spheroid_minri' indicates Spheroid-MinRI dust\n",
    "#----------\n",
    "\n",
    "faod_sphere_maxri = np.zeros(Nbin)\n",
    "faod_sphere_meanri = np.zeros(Nbin)\n",
    "faod_sphere_minri = np.zeros(Nbin)\n",
    "faod_spheroid_maxri = np.zeros(Nbin)\n",
    "faod_spheroid_meanri = np.zeros(Nbin)\n",
    "faod_spheroid_minri = np.zeros(Nbin)\n",
    "\n",
    "for ibin in range(Nbin):\n",
    "    #Mask the diameter (D) within each size range\n",
    "    if ibin==0:\n",
    "        d_low = d_bin_edge[ibin]\n",
    "    else:\n",
    "        d_low = D[d_mask][-1]\n",
    "    d_up = d_bin_edge[ibin+1]\n",
    "    d_mask = (D >=d_low) & (D <= d_up)\n",
    "\n",
    "    #Follow Eq.(7) in Song et al. 2022 to calculate f_k for 6 dust models\n",
    "    faod_sphere_maxri_up = np.trapz(Qe_sphere_maxri[d_mask]*A_sphere[d_mask]*dNdD[d_mask],D[d_mask])\n",
    "    faod_sphere_maxri_down = np.trapz(Qe_sphere_maxri*A_sphere*dNdD,D)\n",
    "    faod_sphere_maxri[ibin] = faod_sphere_maxri_up/faod_sphere_maxri_down\n",
    "    \n",
    "    faod_sphere_meanri_up = np.trapz(Qe_sphere_meanri[d_mask]*A_sphere[d_mask]*dNdD[d_mask],D[d_mask])\n",
    "    faod_sphere_meanri_down = np.trapz(Qe_sphere_meanri*A_sphere*dNdD,D)\n",
    "    faod_sphere_meanri[ibin] = faod_sphere_meanri_up/faod_sphere_meanri_down\n",
    "    \n",
    "    faod_sphere_minri_up = np.trapz(Qe_sphere_minri[d_mask]*A_sphere[d_mask]*dNdD[d_mask],D[d_mask])\n",
    "    faod_sphere_minri_down = np.trapz(Qe_sphere_minri*A_sphere*dNdD,D)\n",
    "    faod_sphere_minri[ibin] = faod_sphere_minri_up/faod_sphere_minri_down\n",
    "    \n",
    "    faod_spheroid_maxri_up = np.trapz(Qe_spheroid_maxri[d_mask]*A_spheroid[d_mask]*dNdD[d_mask],D[d_mask])\n",
    "    faod_spheroid_maxri_down = np.trapz(Qe_spheroid_maxri*A_spheroid*dNdD,D)\n",
    "    faod_spheroid_maxri[ibin] = faod_spheroid_maxri_up/faod_spheroid_maxri_down\n",
    "    \n",
    "    faod_spheroid_meanri_up = np.trapz(Qe_spheroid_meanri[d_mask]*A_spheroid[d_mask]*dNdD[d_mask],D[d_mask])\n",
    "    faod_spheroid_meanri_down = np.trapz(Qe_spheroid_meanri*A_spheroid*dNdD,D)\n",
    "    faod_spheroid_meanri[ibin] = faod_spheroid_meanri_up/faod_spheroid_meanri_down\n",
    "\n",
    "    faod_spheroid_minri_up = np.trapz(Qe_spheroid_minri[d_mask]*A_spheroid[d_mask]*dNdD[d_mask],D[d_mask])\n",
    "    faod_spheroid_minri_down = np.trapz(Qe_spheroid_minri*A_spheroid*dNdD,D)\n",
    "    faod_spheroid_minri[ibin] = faod_spheroid_minri_up/faod_spheroid_minri_down\n"
   ]
  },
  {
   "cell_type": "code",
   "execution_count": 8,
   "metadata": {
    "colab": {
     "base_uri": "https://localhost:8080/"
    },
    "executionInfo": {
     "elapsed": 188,
     "status": "ok",
     "timestamp": 1648583703766,
     "user": {
      "displayName": "Qianqian Song",
      "userId": "03577238226357555443"
     },
     "user_tz": 240
    },
    "id": "NRW6asUes_Vl",
    "outputId": "d28e9e47-2974-44e5-edc8-30297a0cdfbf"
   },
   "outputs": [
    {
     "name": "stdout",
     "output_type": "stream",
     "text": [
      "1.0\n",
      "1.0000000000000002\n",
      "1.0000000000000002\n",
      "1.0000000000000002\n"
     ]
    }
   ],
   "source": [
    "#----------\n",
    "#Sanity Check: the sum of f_k over 10 size bins should be 1\n",
    "#----------\n",
    "print(faod_sphere_maxri.sum())\n",
    "print(faod_sphere_minri.sum())\n",
    "print(faod_spheroid_maxri.sum())\n",
    "print(faod_spheroid_minri.sum())"
   ]
  },
  {
   "cell_type": "code",
   "execution_count": 9,
   "metadata": {
    "colab": {
     "base_uri": "https://localhost:8080/",
     "height": 34
    },
    "executionInfo": {
     "elapsed": 312,
     "status": "ok",
     "timestamp": 1648583704943,
     "user": {
      "displayName": "Qianqian Song",
      "userId": "03577238226357555443"
     },
     "user_tz": 240
    },
    "id": "DvA5utLuyAUh",
    "outputId": "d24052da-3396-408f-a652-b4e22f07b0dc"
   },
   "outputs": [
    {
     "name": "stdout",
     "output_type": "stream",
     "text": [
      "(10, 6)\n"
     ]
    },
    {
     "ename": "ModuleNotFoundError",
     "evalue": "No module named 'google'",
     "output_type": "error",
     "traceback": [
      "\u001b[0;31m---------------------------------------------------------------------------\u001b[0m",
      "\u001b[0;31mModuleNotFoundError\u001b[0m                       Traceback (most recent call last)",
      "\u001b[0;32m/var/folders/47/97wl1v310zqcw6zy080_r_8r0000gs/T/ipykernel_7964/3848777177.py\u001b[0m in \u001b[0;36m<module>\u001b[0;34m\u001b[0m\n\u001b[1;32m      9\u001b[0m \u001b[0;34m\u001b[0m\u001b[0m\n\u001b[1;32m     10\u001b[0m \u001b[0;31m# Download 'Faod_kok17PSD_2Shape_3RI.txt' to user's local file system.\u001b[0m\u001b[0;34m\u001b[0m\u001b[0;34m\u001b[0m\u001b[0m\n\u001b[0;32m---> 11\u001b[0;31m \u001b[0;32mfrom\u001b[0m \u001b[0mgoogle\u001b[0m\u001b[0;34m.\u001b[0m\u001b[0mcolab\u001b[0m \u001b[0;32mimport\u001b[0m \u001b[0mfiles\u001b[0m\u001b[0;34m\u001b[0m\u001b[0m\n\u001b[0m\u001b[1;32m     12\u001b[0m \u001b[0mfiles\u001b[0m\u001b[0;34m.\u001b[0m\u001b[0mdownload\u001b[0m\u001b[0;34m(\u001b[0m\u001b[0;34m'Faod_kok17PSD_2Shape_3RI.txt'\u001b[0m\u001b[0;34m)\u001b[0m\u001b[0;34m\u001b[0m\u001b[0m\n",
      "\u001b[0;31mModuleNotFoundError\u001b[0m: No module named 'google'"
     ]
    }
   ],
   "source": [
    "#----------\n",
    "#Save f_k to 'Faod_kok17PSD_2Shape_3RI.txt', which will be used to calculate dust DRE as shown in Eq.(6)\n",
    "#----------\n",
    "faod = np.vstack((faod_sphere_maxri,faod_sphere_meanri,faod_sphere_minri,faod_spheroid_maxri,faod_spheroid_meanri,faod_spheroid_minri)).T\n",
    "print(faod.shape)\n",
    "np.savetxt('Faod_kok17PSD_2Shape_3RI.txt',faod,fmt='%20.3e',\\\n",
    "           header='{:20s}{:20s}{:20s}{:20s}{:20s}{:20s}'.format('faod_sphere_maxri','faod_sphere_meanri','faod_sphere_minri',\\\n",
    "                                                                'faod_spheroid_maxri','faod_spheroid_meanri','faod_spheroid_minri'))\n",
    "\n",
    "# Download 'Faod_kok17PSD_2Shape_3RI.txt' to user's local file system.\n",
    "from google.colab import files\n",
    "files.download('Faod_kok17PSD_2Shape_3RI.txt')"
   ]
  },
  {
   "cell_type": "code",
   "execution_count": 10,
   "metadata": {
    "colab": {
     "base_uri": "https://localhost:8080/",
     "height": 356
    },
    "executionInfo": {
     "elapsed": 1194,
     "status": "ok",
     "timestamp": 1648583710602,
     "user": {
      "displayName": "Qianqian Song",
      "userId": "03577238226357555443"
     },
     "user_tz": 240
    },
    "id": "r_JtNfe6tC1D",
    "outputId": "31529921-fba6-4828-e058-e91736f8ed04"
   },
   "outputs": [
    {
     "data": {
      "image/png": "[encoded data removed]",
      "text/plain": [
       "<Figure size 800x500 with 2 Axes>"
      ]
     },
     "metadata": {},
     "output_type": "display_data"
    }
   ],
   "source": [
    "#----------\n",
    "# Plot dust PSD and f_k for 6 dust models\n",
    "#----------\n",
    "fig,ax1 = plt.subplots(figsize=(8,5))\n",
    "ax1.plot(r_eqv*2,dvdlnd_atm_norm,lw=2,c='k')\n",
    "ax1.set_xscale('log')\n",
    "ax1.set_yscale('log')\n",
    "ax1.set_xlim(0.1,100)\n",
    "ax1.set_ylim(1e-4,10)\n",
    "ax1.set_ylabel('dV/dlnD',fontsize=16)\n",
    "ax1.set_xlabel('Diameter ($\\mu m$)',fontsize=16)\n",
    "ax1.text(0.12,3,'b',fontsize=30,fontweight='bold')\n",
    "ax2=ax1.twinx()\n",
    "ax2.scatter(d_bin_center,faod_sphere_maxri*1e2,marker='o',lw=2,s=60,c='r',label='MaxSWRI-Sphere')\n",
    "ax2.errorbar(d_bin_center,faod_sphere_maxri*1e2,xerr=d_bin_length/2,fmt='none',c='r')\n",
    "ax2.scatter(d_bin_center,faod_sphere_meanri*1e2,marker='o',lw=2,s=60,c='orange',label='MeanSWRI-Sphere')\n",
    "ax2.errorbar(d_bin_center,faod_sphere_meanri*1e2,xerr=d_bin_length/2,fmt='none',c='orange')\n",
    "ax2.scatter(d_bin_center,faod_sphere_minri*1e2,marker='o',lw=2,s=60,c='b',label='MinSWRI-Sphere')\n",
    "ax2.errorbar(d_bin_center,faod_sphere_minri*1e2,xerr=d_bin_length/2,fmt='none',c='b')\n",
    "ax2.scatter(d_bin_center,faod_spheroid_maxri*1e2,marker='D',lw=2,s=60,c='r',label='MaxSWRI-Spheroid')\n",
    "ax2.errorbar(d_bin_center,faod_spheroid_maxri*1e2,xerr=d_bin_length/2,fmt='none',c='r')\n",
    "ax2.scatter(d_bin_center,faod_spheroid_meanri*1e2,marker='D',lw=2,s=60,c='orange',label='MeanSWRI-Spheroid')\n",
    "ax2.errorbar(d_bin_center,faod_spheroid_meanri*1e2,xerr=d_bin_length/2,fmt='none',c='orange')\n",
    "ax2.scatter(d_bin_center,faod_spheroid_minri*1e2,marker='D',lw=2,s=60,c='b',label='MinSWRI-Spheroid')\n",
    "ax2.errorbar(d_bin_center,faod_spheroid_minri*1e2,xerr=d_bin_length/2,fmt='none',c='b')\n",
    "ax2.set_ylim(-2,50)\n",
    "ax2.set_ylabel('% Contribution to DAOD',fontsize=16,c='k')\n",
    "ax2.legend(loc='upper right',fontsize=15,frameon=0,ncol=2)\n",
    "ax1.tick_params(which='both',direction='in',length=5,labelsize=14,top=True)\n",
    "ax2.tick_params(which='both',direction='in',length=5,labelsize=14)"
   ]
  },
  {
   "cell_type": "code",
   "execution_count": null,
   "metadata": {
    "id": "y2V8YfJV-Zt-"
   },
   "outputs": [],
   "source": []
  }
 ],
 "metadata": {
  "colab": {
   "authorship_tag": "ABX9TyNbMx6Mt1OnDHOxJdsU/+oP",
   "collapsed_sections": [],
   "name": "f_k.ipynb",
   "provenance": []
  },
  "kernelspec": {
   "display_name": "basemap_env",
   "language": "python",
   "name": "basemap_env"
  },
  "language_info": {
   "codemirror_mode": {
    "name": "ipython",
    "version": 3
   },
   "file_extension": ".py",
   "mimetype": "text/x-python",
   "name": "python",
   "nbconvert_exporter": "python",
   "pygments_lexer": "ipython3",
   "version": "3.8.13"
  }
 },
 "nbformat": 4,
 "nbformat_minor": 1
}
